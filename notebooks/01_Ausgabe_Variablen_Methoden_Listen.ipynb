{
 "cells": [
  {
   "cell_type": "code",
   "execution_count": null,
   "metadata": {},
   "outputs": [],
   "source": [
    "# Nicht verändern!\n",
    "def TODO(beschreibung):\n",
    "    print(\"!!! TODO !!!\")\n",
    "    print(\"Hist ist noch etwas zu tun: %s\" % beschreibung)\n",
    "    print(\"!!! TODO !!!\")"
   ]
  },
  {
   "cell_type": "markdown",
   "metadata": {},
   "source": [
    "# Ausgabe\n",
    "Mit `print` kann man Zeichenketten ausgeben."
   ]
  },
  {
   "cell_type": "code",
   "execution_count": null,
   "metadata": {},
   "outputs": [],
   "source": [
    "print('Hallo')"
   ]
  },
  {
   "cell_type": "markdown",
   "metadata": {},
   "source": [
    "# Variablen"
   ]
  },
  {
   "cell_type": "code",
   "execution_count": null,
   "metadata": {},
   "outputs": [],
   "source": [
    "a = 3\n",
    "b = 2\n",
    "c = a * b\n",
    "\n",
    "print(\"a: \", a)\n",
    "print(\"b: \", b)\n",
    "print(\"c: \", c)"
   ]
  },
  {
   "cell_type": "markdown",
   "metadata": {},
   "source": [
    "# Wenn, dann"
   ]
  },
  {
   "cell_type": "code",
   "execution_count": null,
   "metadata": {},
   "outputs": [],
   "source": [
    "if (a % 2 == 0):\n",
    "    print(\"a ist gerade!\")\n",
    "else:\n",
    "    print(\"a ist ungerade!\")"
   ]
  },
  {
   "cell_type": "markdown",
   "metadata": {},
   "source": [
    "# Methoden"
   ]
  },
  {
   "cell_type": "markdown",
   "metadata": {},
   "source": [
    "## mathematische Funktionen"
   ]
  },
  {
   "cell_type": "code",
   "execution_count": null,
   "metadata": {},
   "outputs": [],
   "source": [
    "def plus(a, b):\n",
    "    return a + b\n",
    "\n",
    "def minus(a, b):\n",
    "    return a - b\n",
    "\n",
    "def mal(a, b):\n",
    "    return a * b\n",
    "\n",
    "def dividiert(a, b):\n",
    "    return a / b\n",
    "\n",
    "def rest(a, b):\n",
    "    return a % b"
   ]
  },
  {
   "cell_type": "code",
   "execution_count": null,
   "metadata": {},
   "outputs": [],
   "source": [
    "print(\"a: \", a, \", b: \", b)"
   ]
  },
  {
   "cell_type": "code",
   "execution_count": null,
   "metadata": {},
   "outputs": [],
   "source": [
    "print(plus(a, b))"
   ]
  },
  {
   "cell_type": "code",
   "execution_count": null,
   "metadata": {},
   "outputs": [],
   "source": [
    "print(minus(a, b))"
   ]
  },
  {
   "cell_type": "code",
   "execution_count": null,
   "metadata": {},
   "outputs": [],
   "source": [
    "print(mal(a, b))"
   ]
  },
  {
   "cell_type": "code",
   "execution_count": null,
   "metadata": {},
   "outputs": [],
   "source": [
    "print(dividiert(a, b))"
   ]
  },
  {
   "cell_type": "code",
   "execution_count": null,
   "metadata": {},
   "outputs": [],
   "source": [
    "print(rest(2, 2))\n",
    "print(rest(3, 2))\n",
    "print(rest(4, 2))\n",
    "print(rest(5, 2))"
   ]
  },
  {
   "cell_type": "markdown",
   "metadata": {},
   "source": [
    "## Methoden können auch in Methoden verwendet werden ...\n",
    "... eine Zahl ist dann gerade, wenn sie durch zwei dividiert werden kann (... und dabei **kein Rest** übrig bleibt)."
   ]
  },
  {
   "cell_type": "code",
   "execution_count": null,
   "metadata": {},
   "outputs": [],
   "source": [
    "def ist_gerade(zahl):\n",
    "    if (rest(zahl, 2) == 0):\n",
    "        return True\n",
    "    else:\n",
    "        return False"
   ]
  },
  {
   "cell_type": "code",
   "execution_count": null,
   "metadata": {},
   "outputs": [],
   "source": [
    "print(ist_gerade(2))\n",
    "print(ist_gerade(3))"
   ]
  },
  {
   "cell_type": "code",
   "execution_count": null,
   "metadata": {},
   "outputs": [],
   "source": [
    "if (ist_gerade(3)):\n",
    "    print(\"gerade!\")\n",
    "else:\n",
    "    print(\"ungerade!\")"
   ]
  },
  {
   "cell_type": "markdown",
   "metadata": {},
   "source": [
    "### andere Schreibweise hierfür:"
   ]
  },
  {
   "cell_type": "code",
   "execution_count": null,
   "metadata": {},
   "outputs": [],
   "source": [
    "def ist_gerade2(zahl):\n",
    "    return rest(zahl, 2) == 0"
   ]
  },
  {
   "cell_type": "code",
   "execution_count": null,
   "metadata": {},
   "outputs": [],
   "source": [
    "print(ist_gerade(2))\n",
    "print(ist_gerade(3))"
   ]
  },
  {
   "cell_type": "markdown",
   "metadata": {},
   "source": [
    "# Datentypen\n",
    "Es gibt verschiedene Datentypen. Wichtige davon sind:\n",
    "- String (z.B. **\"Hallo\"**)\n",
    "- int (z.B. **3**)\n",
    "- float (z.B. **2.5**)\n",
    "\n"
   ]
  },
  {
   "cell_type": "code",
   "execution_count": null,
   "metadata": {},
   "outputs": [],
   "source": [
    "name = \"Michael\"\n",
    "alter = 28\n",
    "gewicht = 78.4\n",
    "\n",
    "print(\"Ich bin %s.\" % name)\n",
    "print(\"Ich bin %d Jahre alt.\" % alter)\n",
    "print(\"Mein Gewicht ist %f kg.\" % gewicht)"
   ]
  },
  {
   "cell_type": "markdown",
   "metadata": {},
   "source": [
    "# Listen\n",
    "Listen sind sehr nützlich"
   ]
  },
  {
   "cell_type": "code",
   "execution_count": null,
   "metadata": {},
   "outputs": [],
   "source": [
    "liste = [\"Michael\"]\n",
    "liste.append(\"Paul\")\n",
    "liste.append(\"Sabine\")\n",
    "liste.append(\"Seppl\")"
   ]
  },
  {
   "cell_type": "code",
   "execution_count": null,
   "metadata": {},
   "outputs": [],
   "source": [
    "print(liste)"
   ]
  },
  {
   "cell_type": "code",
   "execution_count": null,
   "metadata": {},
   "outputs": [],
   "source": [
    "paul = liste[1]\n",
    "print(paul)"
   ]
  },
  {
   "cell_type": "code",
   "execution_count": null,
   "metadata": {},
   "outputs": [],
   "source": [
    "seppl = TODO(\"setze den Ausdruck ein, um Seppl aus der liste zu bekommen\")\n",
    "\n",
    "assert seppl == \"Seppl\", \"Das ist nicht Seppl, das ist %s\" % seppl"
   ]
  },
  {
   "cell_type": "markdown",
   "metadata": {},
   "source": [
    "# Schleifen\n",
    "mit Schleifen kann man z.B. durch Listen \"iterieren\", das heißt ein Element nach dem anderen besuchen und etwas mit dem Element machen."
   ]
  },
  {
   "cell_type": "code",
   "execution_count": null,
   "metadata": {},
   "outputs": [],
   "source": [
    "for name in liste:\n",
    "    print(name)"
   ]
  }
 ],
 "metadata": {
  "kernelspec": {
   "display_name": "Python 3",
   "language": "python",
   "name": "python3"
  },
  "language_info": {
   "codemirror_mode": {
    "name": "ipython",
    "version": 3
   },
   "file_extension": ".py",
   "mimetype": "text/x-python",
   "name": "python",
   "nbconvert_exporter": "python",
   "pygments_lexer": "ipython3",
   "version": "3.8.6"
  }
 },
 "nbformat": 4,
 "nbformat_minor": 4
}
